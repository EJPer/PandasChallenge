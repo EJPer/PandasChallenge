{
 "cells": [
  {
   "cell_type": "code",
   "execution_count": 69,
   "id": "85a72ff2",
   "metadata": {},
   "outputs": [],
   "source": [
    "# Load in Pandas \n",
    "import pandas as pd"
   ]
  },
  {
   "cell_type": "code",
   "execution_count": 101,
   "id": "0be8cbbe",
   "metadata": {},
   "outputs": [
    {
     "name": "stdout",
     "output_type": "stream",
     "text": [
      "       Student ID       student_name gender grade         school_name  \\\n",
      "0               0       Paul Bradley      M   9th   Huang High School   \n",
      "1               1       Victor Smith      M  12th   Huang High School   \n",
      "2               2    Kevin Rodriguez      M  12th   Huang High School   \n",
      "3               3  Dr. Richard Scott      M  12th   Huang High School   \n",
      "4               4         Bonnie Ray      F   9th   Huang High School   \n",
      "...           ...                ...    ...   ...                 ...   \n",
      "39165       39165       Donna Howard      F  12th  Thomas High School   \n",
      "39166       39166          Dawn Bell      F  10th  Thomas High School   \n",
      "39167       39167     Rebecca Tanner      F   9th  Thomas High School   \n",
      "39168       39168       Desiree Kidd      F  10th  Thomas High School   \n",
      "39169       39169    Carolyn Jackson      F  11th  Thomas High School   \n",
      "\n",
      "       reading_score  math_score  \n",
      "0                 66          79  \n",
      "1                 94          61  \n",
      "2                 90          60  \n",
      "3                 67          58  \n",
      "4                 97          84  \n",
      "...              ...         ...  \n",
      "39165             99          90  \n",
      "39166             95          70  \n",
      "39167             73          84  \n",
      "39168             99          90  \n",
      "39169             95          75  \n",
      "\n",
      "[39170 rows x 7 columns]\n"
     ]
    }
   ],
   "source": [
    "#Load in Data\n",
    "school_path =\"../Resources/schools_complete.csv\"\n",
    "student_path = \"../Resources/students_complete.csv\"\n",
    "\n",
    "#read in schoolas as csv:\n",
    "school_df = pd.read_csv(school_path)\n",
    "student_df = pd.read_csv(student_path)\n",
    "\n",
    "\n",
    "print(student_df)"
   ]
  },
  {
   "cell_type": "code",
   "execution_count": 71,
   "id": "ec43d736",
   "metadata": {},
   "outputs": [
    {
     "data": {
      "text/plain": [
       "15"
      ]
     },
     "execution_count": 71,
     "metadata": {},
     "output_type": "execute_result"
    }
   ],
   "source": [
    "#District Summary\n",
    "\n",
    "#Total number of unique schools\n",
    "schools_in_survery = pd.unique(school_df[\"school_name\"])\n",
    "\n",
    "len(schools_in_survery)\n",
    "\n"
   ]
  },
  {
   "cell_type": "code",
   "execution_count": 72,
   "id": "1c5f5f54",
   "metadata": {},
   "outputs": [
    {
     "data": {
      "text/plain": [
       "39170"
      ]
     },
     "execution_count": 72,
     "metadata": {},
     "output_type": "execute_result"
    }
   ],
   "source": [
    "#Total students \n",
    "student_count = student_df[\"Student ID\"].count()\n",
    "student_count"
   ]
  },
  {
   "cell_type": "code",
   "execution_count": 73,
   "id": "6dbd67ee",
   "metadata": {},
   "outputs": [
    {
     "name": "stdout",
     "output_type": "stream",
     "text": [
      "$24649428\n"
     ]
    }
   ],
   "source": [
    "#Total School Budget\n",
    "school_budget = school_df[\"budget\"].sum()\n",
    "print(f\"${school_budget}\")"
   ]
  },
  {
   "cell_type": "code",
   "execution_count": 74,
   "id": "69cb1aac",
   "metadata": {},
   "outputs": [
    {
     "data": {
      "text/plain": [
       "78.98537145774827"
      ]
     },
     "execution_count": 74,
     "metadata": {},
     "output_type": "execute_result"
    }
   ],
   "source": [
    "#Average Math score\n",
    "avg_math = student_df[\"math_score\"].mean()\n",
    "avg_math"
   ]
  },
  {
   "cell_type": "code",
   "execution_count": 75,
   "id": "f34945c0",
   "metadata": {},
   "outputs": [],
   "source": [
    "avg_reading = student_df[\"reading_score\"].mean()"
   ]
  },
  {
   "cell_type": "code",
   "execution_count": 76,
   "id": "6a2d7c97",
   "metadata": {},
   "outputs": [
    {
     "data": {
      "text/plain": [
       "74.9808526933878"
      ]
     },
     "execution_count": 76,
     "metadata": {},
     "output_type": "execute_result"
    }
   ],
   "source": [
    "#Passing Math\n",
    "passing_math_count = student_df[(student_df[\"math_score\"] >= 70 )].count()[\"student_name\"]\n",
    "passing_math_percentage =(passing_math_count/ float(student_count))*100\n",
    "passing_math_percentage"
   ]
  },
  {
   "cell_type": "code",
   "execution_count": 77,
   "id": "79e7b491",
   "metadata": {},
   "outputs": [
    {
     "data": {
      "text/plain": [
       "85.80546336482001"
      ]
     },
     "execution_count": 77,
     "metadata": {},
     "output_type": "execute_result"
    }
   ],
   "source": [
    "#Passing Reading \n",
    "passing_reading_count = student_df[(student_df[\"reading_score\"] >= 70 )].count()[\"student_name\"]\n",
    "passing_reading_percent =( passing_reading_count / float(student_count)) *100 \n",
    "passing_reading_percent"
   ]
  },
  {
   "cell_type": "code",
   "execution_count": 78,
   "id": "fb0a1a68",
   "metadata": {},
   "outputs": [
    {
     "data": {
      "text/plain": [
       "65.17232575950983"
      ]
     },
     "execution_count": 78,
     "metadata": {},
     "output_type": "execute_result"
    }
   ],
   "source": [
    "#Reading and Math:\n",
    "passing_math_reading_count = student_df[\n",
    "    (student_df[\"math_score\"] >= 70) & (student_df[\"reading_score\"] >= 70)\n",
    "    ].count()[\"student_name\"]\n",
    "\n",
    "total_passing_rate = passing_math_reading_count / float(student_count)*100\n",
    "total_passing_rate"
   ]
  },
  {
   "cell_type": "code",
   "execution_count": 79,
   "id": "df6b9ab1",
   "metadata": {},
   "outputs": [
    {
     "data": {
      "text/plain": [
       "school_name\n",
       "Huang High School        District\n",
       "Figueroa High School     District\n",
       "Shelton High School       Charter\n",
       "Hernandez High School    District\n",
       "Griffin High School       Charter\n",
       "Wilson High School        Charter\n",
       "Cabrera High School       Charter\n",
       "Bailey High School       District\n",
       "Holden High School        Charter\n",
       "Pena High School          Charter\n",
       "Wright High School        Charter\n",
       "Rodriguez High School    District\n",
       "Johnson High School      District\n",
       "Ford High School         District\n",
       "Thomas High School        Charter\n",
       "Name: type, dtype: object"
      ]
     },
     "execution_count": 79,
     "metadata": {},
     "output_type": "execute_result"
    }
   ],
   "source": [
    "#Calculate Schooltypes\n",
    "school_types = school_df.set_index([\"school_name\"])[\"type\"]\n",
    "school_types"
   ]
  },
  {
   "cell_type": "code",
   "execution_count": 80,
   "id": "aab93ee8",
   "metadata": {},
   "outputs": [
    {
     "data": {
      "text/html": [
       "<div>\n",
       "<style scoped>\n",
       "    .dataframe tbody tr th:only-of-type {\n",
       "        vertical-align: middle;\n",
       "    }\n",
       "\n",
       "    .dataframe tbody tr th {\n",
       "        vertical-align: top;\n",
       "    }\n",
       "\n",
       "    .dataframe thead th {\n",
       "        text-align: right;\n",
       "    }\n",
       "</style>\n",
       "<table border=\"1\" class=\"dataframe\">\n",
       "  <thead>\n",
       "    <tr style=\"text-align: right;\">\n",
       "      <th></th>\n",
       "      <th>Student ID</th>\n",
       "    </tr>\n",
       "    <tr>\n",
       "      <th>school_name</th>\n",
       "      <th></th>\n",
       "    </tr>\n",
       "  </thead>\n",
       "  <tbody>\n",
       "    <tr>\n",
       "      <th>Bailey High School</th>\n",
       "      <td>4976</td>\n",
       "    </tr>\n",
       "    <tr>\n",
       "      <th>Cabrera High School</th>\n",
       "      <td>1858</td>\n",
       "    </tr>\n",
       "    <tr>\n",
       "      <th>Figueroa High School</th>\n",
       "      <td>2949</td>\n",
       "    </tr>\n",
       "    <tr>\n",
       "      <th>Ford High School</th>\n",
       "      <td>2739</td>\n",
       "    </tr>\n",
       "    <tr>\n",
       "      <th>Griffin High School</th>\n",
       "      <td>1468</td>\n",
       "    </tr>\n",
       "    <tr>\n",
       "      <th>Hernandez High School</th>\n",
       "      <td>4635</td>\n",
       "    </tr>\n",
       "    <tr>\n",
       "      <th>Holden High School</th>\n",
       "      <td>427</td>\n",
       "    </tr>\n",
       "    <tr>\n",
       "      <th>Huang High School</th>\n",
       "      <td>2917</td>\n",
       "    </tr>\n",
       "    <tr>\n",
       "      <th>Johnson High School</th>\n",
       "      <td>4761</td>\n",
       "    </tr>\n",
       "    <tr>\n",
       "      <th>Pena High School</th>\n",
       "      <td>962</td>\n",
       "    </tr>\n",
       "    <tr>\n",
       "      <th>Rodriguez High School</th>\n",
       "      <td>3999</td>\n",
       "    </tr>\n",
       "    <tr>\n",
       "      <th>Shelton High School</th>\n",
       "      <td>1761</td>\n",
       "    </tr>\n",
       "    <tr>\n",
       "      <th>Thomas High School</th>\n",
       "      <td>1635</td>\n",
       "    </tr>\n",
       "    <tr>\n",
       "      <th>Wilson High School</th>\n",
       "      <td>2283</td>\n",
       "    </tr>\n",
       "    <tr>\n",
       "      <th>Wright High School</th>\n",
       "      <td>1800</td>\n",
       "    </tr>\n",
       "  </tbody>\n",
       "</table>\n",
       "</div>"
      ],
      "text/plain": [
       "                       Student ID\n",
       "school_name                      \n",
       "Bailey High School           4976\n",
       "Cabrera High School          1858\n",
       "Figueroa High School         2949\n",
       "Ford High School             2739\n",
       "Griffin High School          1468\n",
       "Hernandez High School        4635\n",
       "Holden High School            427\n",
       "Huang High School            2917\n",
       "Johnson High School          4761\n",
       "Pena High School              962\n",
       "Rodriguez High School        3999\n",
       "Shelton High School          1761\n",
       "Thomas High School           1635\n",
       "Wilson High School           2283\n",
       "Wright High School           1800"
      ]
     },
     "execution_count": 80,
     "metadata": {},
     "output_type": "execute_result"
    }
   ],
   "source": [
    "#Calculate the total students\n",
    "per_school = student_df[[\"school_name\", \"Student ID\"]].groupby('school_name').count()\n",
    "per_school"
   ]
  },
  {
   "cell_type": "code",
   "execution_count": 81,
   "id": "71a478f3",
   "metadata": {},
   "outputs": [
    {
     "data": {
      "text/plain": [
       "school_name\n",
       "Bailey High School       628.0\n",
       "Cabrera High School      582.0\n",
       "Figueroa High School     639.0\n",
       "Ford High School         644.0\n",
       "Griffin High School      625.0\n",
       "Hernandez High School    652.0\n",
       "Holden High School       581.0\n",
       "Huang High School        655.0\n",
       "Johnson High School      650.0\n",
       "Pena High School         609.0\n",
       "Rodriguez High School    637.0\n",
       "Shelton High School      600.0\n",
       "Thomas High School       638.0\n",
       "Wilson High School       578.0\n",
       "Wright High School       583.0\n",
       "dtype: float64"
      ]
     },
     "execution_count": 81,
     "metadata": {},
     "output_type": "execute_result"
    }
   ],
   "source": [
    "#total school budget\n",
    "per_school_budget = school_df.groupby([\"school_name\"]).sum()[\"budget\"]\n",
    "per_school_budget \n",
    "\n",
    "#per capita spending\n",
    "per_school_capita = per_school_budget / per_school[\"Student ID\"]\n",
    "per_school_capita"
   ]
  },
  {
   "cell_type": "code",
   "execution_count": 84,
   "id": "aa48d97e",
   "metadata": {},
   "outputs": [
    {
     "data": {
      "text/plain": [
       "school_name\n",
       "Bailey High School       81.033963\n",
       "Cabrera High School      83.975780\n",
       "Figueroa High School     81.158020\n",
       "Ford High School         80.746258\n",
       "Griffin High School      83.816757\n",
       "Hernandez High School    80.934412\n",
       "Holden High School       83.814988\n",
       "Huang High School        81.182722\n",
       "Johnson High School      80.966394\n",
       "Pena High School         84.044699\n",
       "Rodriguez High School    80.744686\n",
       "Shelton High School      83.725724\n",
       "Thomas High School       83.848930\n",
       "Wilson High School       83.989488\n",
       "Wright High School       83.955000\n",
       "Name: reading_score, dtype: float64"
      ]
     },
     "execution_count": 84,
     "metadata": {},
     "output_type": "execute_result"
    }
   ],
   "source": [
    "per_school_reading = per_school_math = student_df.groupby([\"school_name\"]).mean()['reading_score']\n",
    "per_school_reading"
   ]
  },
  {
   "cell_type": "code",
   "execution_count": 123,
   "id": "41145b01",
   "metadata": {},
   "outputs": [
    {
     "data": {
      "text/plain": [
       "school_name\n",
       "Bailey High School       2719\n",
       "Cabrera High School      1697\n",
       "Figueroa High School     1569\n",
       "Ford High School         1487\n",
       "Griffin High School      1330\n",
       "Hernandez High School    2481\n",
       "Holden High School        381\n",
       "Huang High School        1561\n",
       "Johnson High School      2549\n",
       "Pena High School          871\n",
       "Rodriguez High School    2119\n",
       "Shelton High School      1583\n",
       "Thomas High School       1487\n",
       "Wilson High School       2068\n",
       "Wright High School       1626\n",
       "Name: student_name, dtype: int64"
      ]
     },
     "execution_count": 123,
     "metadata": {},
     "output_type": "execute_result"
    }
   ],
   "source": [
    "#Filter for read > 70\n",
    "passing_reading = student_df[\n",
    "    (student_df[\"reading_score\"] >= 70)\n",
    "]\n",
    "\n",
    "#filter for math >70\n",
    "passing_math = student_df[\n",
    "    (student_df[\"math_score\"] >= 70)\n",
    "]\n",
    "\n",
    "#filter for overall >70\n",
    "passing_math_and_reading = student_df[\n",
    "    (student_df[\"reading_score\"] >= 70) & (student_df[\"math_score\"] >= 70)\n",
    "]\n",
    "\n",
    "#groupby for reading \n",
    "passing_reading_school = passing_reading.groupby('school_name').count()['student_name']\n",
    "\n",
    "#groupby for math\n",
    "passing_math_school = passing_math.groupby('school_name').count()['student_name']\n",
    "\n",
    "#groupby for overall\n",
    "passing_math_and_reading = passing_math_and_reading.groupby('school_name').count()['student_name']\n",
    "\n",
    "\n",
    "passing_math_and_reading"
   ]
  },
  {
   "cell_type": "code",
   "execution_count": 86,
   "id": "81662670",
   "metadata": {},
   "outputs": [
    {
     "data": {
      "text/plain": [
       "school_name\n",
       "Bailey High School       66.680064\n",
       "Cabrera High School      94.133477\n",
       "Figueroa High School     65.988471\n",
       "Ford High School         68.309602\n",
       "Griffin High School      93.392371\n",
       "Hernandez High School    66.752967\n",
       "Holden High School       92.505855\n",
       "Huang High School        65.683922\n",
       "Johnson High School      66.057551\n",
       "Pena High School         94.594595\n",
       "Rodriguez High School    66.366592\n",
       "Shelton High School      93.867121\n",
       "Thomas High School       93.272171\n",
       "Wilson High School       93.867718\n",
       "Wright High School       93.333333\n",
       "dtype: float64"
      ]
     },
     "execution_count": 86,
     "metadata": {},
     "output_type": "execute_result"
    }
   ],
   "source": [
    "# % that passed math\n",
    "per_school_passing_math = (passing_math.groupby([\"school_name\"]).count()[\"student_name\"]) / (per_school[\"Student ID\"]) * 100\n",
    "per_school_passing_math"
   ]
  },
  {
   "cell_type": "code",
   "execution_count": 125,
   "id": "337a4f55",
   "metadata": {},
   "outputs": [
    {
     "data": {
      "text/plain": [
       "school_name\n",
       "Bailey High School       81.933280\n",
       "Cabrera High School      97.039828\n",
       "Figueroa High School     80.739234\n",
       "Ford High School         79.299014\n",
       "Griffin High School      97.138965\n",
       "Hernandez High School    80.862999\n",
       "Holden High School       96.252927\n",
       "Huang High School        81.316421\n",
       "Johnson High School      81.222432\n",
       "Pena High School         95.945946\n",
       "Rodriguez High School    80.220055\n",
       "Shelton High School      95.854628\n",
       "Thomas High School       97.308869\n",
       "Wilson High School       96.539641\n",
       "Wright High School       96.611111\n",
       "dtype: float64"
      ]
     },
     "execution_count": 125,
     "metadata": {},
     "output_type": "execute_result"
    }
   ],
   "source": [
    "# % that passed reading\n",
    "per_school_passing_reading = (passing_reading.groupby([\"school_name\"]).count()[\"student_name\"]) / (per_school[\"Student ID\"]) * 100\n",
    "per_school_passing_reading"
   ]
  },
  {
   "cell_type": "code",
   "execution_count": 127,
   "id": "e74ea0cb",
   "metadata": {},
   "outputs": [
    {
     "ename": "KeyError",
     "evalue": "'student_name'",
     "output_type": "error",
     "traceback": [
      "\u001b[1;31m---------------------------------------------------------------------------\u001b[0m",
      "\u001b[1;31mKeyError\u001b[0m                                  Traceback (most recent call last)",
      "\u001b[1;32m~\\anaconda3\\lib\\site-packages\\pandas\\core\\indexes\\base.py\u001b[0m in \u001b[0;36mget_loc\u001b[1;34m(self, key, method, tolerance)\u001b[0m\n\u001b[0;32m   3628\u001b[0m             \u001b[1;32mtry\u001b[0m\u001b[1;33m:\u001b[0m\u001b[1;33m\u001b[0m\u001b[1;33m\u001b[0m\u001b[0m\n\u001b[1;32m-> 3629\u001b[1;33m                 \u001b[1;32mreturn\u001b[0m \u001b[0mself\u001b[0m\u001b[1;33m.\u001b[0m\u001b[0m_engine\u001b[0m\u001b[1;33m.\u001b[0m\u001b[0mget_loc\u001b[0m\u001b[1;33m(\u001b[0m\u001b[0mcasted_key\u001b[0m\u001b[1;33m)\u001b[0m\u001b[1;33m\u001b[0m\u001b[1;33m\u001b[0m\u001b[0m\n\u001b[0m\u001b[0;32m   3630\u001b[0m             \u001b[1;32mexcept\u001b[0m \u001b[0mKeyError\u001b[0m \u001b[1;32mas\u001b[0m \u001b[0merr\u001b[0m\u001b[1;33m:\u001b[0m\u001b[1;33m\u001b[0m\u001b[1;33m\u001b[0m\u001b[0m\n",
      "\u001b[1;32m~\\anaconda3\\lib\\site-packages\\pandas\\_libs\\index.pyx\u001b[0m in \u001b[0;36mpandas._libs.index.IndexEngine.get_loc\u001b[1;34m()\u001b[0m\n",
      "\u001b[1;32m~\\anaconda3\\lib\\site-packages\\pandas\\_libs\\index.pyx\u001b[0m in \u001b[0;36mpandas._libs.index.IndexEngine.get_loc\u001b[1;34m()\u001b[0m\n",
      "\u001b[1;32mpandas\\_libs\\hashtable_class_helper.pxi\u001b[0m in \u001b[0;36mpandas._libs.hashtable.PyObjectHashTable.get_item\u001b[1;34m()\u001b[0m\n",
      "\u001b[1;32mpandas\\_libs\\hashtable_class_helper.pxi\u001b[0m in \u001b[0;36mpandas._libs.hashtable.PyObjectHashTable.get_item\u001b[1;34m()\u001b[0m\n",
      "\u001b[1;31mKeyError\u001b[0m: 'student_name'",
      "\nThe above exception was the direct cause of the following exception:\n",
      "\u001b[1;31mKeyError\u001b[0m                                  Traceback (most recent call last)",
      "\u001b[1;32m~\\AppData\\Local\\Temp\\ipykernel_10496\\802260793.py\u001b[0m in \u001b[0;36m<module>\u001b[1;34m\u001b[0m\n\u001b[0;32m      1\u001b[0m \u001b[1;31m#Get Help on error\u001b[0m\u001b[1;33m\u001b[0m\u001b[1;33m\u001b[0m\u001b[0m\n\u001b[0;32m      2\u001b[0m \u001b[1;33m\u001b[0m\u001b[0m\n\u001b[1;32m----> 3\u001b[1;33m \u001b[0mper_school_passing_overall\u001b[0m \u001b[1;33m=\u001b[0m \u001b[1;33m(\u001b[0m\u001b[0mpassing_math_and_reading\u001b[0m\u001b[1;33m.\u001b[0m\u001b[0mgroupby\u001b[0m\u001b[1;33m(\u001b[0m\u001b[1;33m[\u001b[0m\u001b[1;34m\"school_name\"\u001b[0m\u001b[1;33m]\u001b[0m\u001b[1;33m)\u001b[0m\u001b[1;33m.\u001b[0m\u001b[0mcount\u001b[0m\u001b[1;33m(\u001b[0m\u001b[1;33m)\u001b[0m\u001b[1;33m[\u001b[0m\u001b[1;34m\"student_name\"\u001b[0m\u001b[1;33m]\u001b[0m\u001b[1;33m)\u001b[0m\u001b[1;33m/\u001b[0m \u001b[1;33m(\u001b[0m\u001b[0mper_school\u001b[0m\u001b[1;33m[\u001b[0m\u001b[1;34m\"Student ID\"\u001b[0m\u001b[1;33m]\u001b[0m \u001b[1;33m*\u001b[0m \u001b[1;36m100\u001b[0m\u001b[1;33m)\u001b[0m\u001b[1;33m\u001b[0m\u001b[1;33m\u001b[0m\u001b[0m\n\u001b[0m\u001b[0;32m      4\u001b[0m \u001b[0mper_school_passing_overall\u001b[0m\u001b[1;33m\u001b[0m\u001b[1;33m\u001b[0m\u001b[0m\n",
      "\u001b[1;32m~\\anaconda3\\lib\\site-packages\\pandas\\core\\series.py\u001b[0m in \u001b[0;36m__getitem__\u001b[1;34m(self, key)\u001b[0m\n\u001b[0;32m    956\u001b[0m \u001b[1;33m\u001b[0m\u001b[0m\n\u001b[0;32m    957\u001b[0m         \u001b[1;32melif\u001b[0m \u001b[0mkey_is_scalar\u001b[0m\u001b[1;33m:\u001b[0m\u001b[1;33m\u001b[0m\u001b[1;33m\u001b[0m\u001b[0m\n\u001b[1;32m--> 958\u001b[1;33m             \u001b[1;32mreturn\u001b[0m \u001b[0mself\u001b[0m\u001b[1;33m.\u001b[0m\u001b[0m_get_value\u001b[0m\u001b[1;33m(\u001b[0m\u001b[0mkey\u001b[0m\u001b[1;33m)\u001b[0m\u001b[1;33m\u001b[0m\u001b[1;33m\u001b[0m\u001b[0m\n\u001b[0m\u001b[0;32m    959\u001b[0m \u001b[1;33m\u001b[0m\u001b[0m\n\u001b[0;32m    960\u001b[0m         \u001b[1;32mif\u001b[0m \u001b[0mis_hashable\u001b[0m\u001b[1;33m(\u001b[0m\u001b[0mkey\u001b[0m\u001b[1;33m)\u001b[0m\u001b[1;33m:\u001b[0m\u001b[1;33m\u001b[0m\u001b[1;33m\u001b[0m\u001b[0m\n",
      "\u001b[1;32m~\\anaconda3\\lib\\site-packages\\pandas\\core\\series.py\u001b[0m in \u001b[0;36m_get_value\u001b[1;34m(self, label, takeable)\u001b[0m\n\u001b[0;32m   1067\u001b[0m \u001b[1;33m\u001b[0m\u001b[0m\n\u001b[0;32m   1068\u001b[0m         \u001b[1;31m# Similar to Index.get_value, but we do not fall back to positional\u001b[0m\u001b[1;33m\u001b[0m\u001b[1;33m\u001b[0m\u001b[0m\n\u001b[1;32m-> 1069\u001b[1;33m         \u001b[0mloc\u001b[0m \u001b[1;33m=\u001b[0m \u001b[0mself\u001b[0m\u001b[1;33m.\u001b[0m\u001b[0mindex\u001b[0m\u001b[1;33m.\u001b[0m\u001b[0mget_loc\u001b[0m\u001b[1;33m(\u001b[0m\u001b[0mlabel\u001b[0m\u001b[1;33m)\u001b[0m\u001b[1;33m\u001b[0m\u001b[1;33m\u001b[0m\u001b[0m\n\u001b[0m\u001b[0;32m   1070\u001b[0m         \u001b[1;32mreturn\u001b[0m \u001b[0mself\u001b[0m\u001b[1;33m.\u001b[0m\u001b[0mindex\u001b[0m\u001b[1;33m.\u001b[0m\u001b[0m_get_values_for_loc\u001b[0m\u001b[1;33m(\u001b[0m\u001b[0mself\u001b[0m\u001b[1;33m,\u001b[0m \u001b[0mloc\u001b[0m\u001b[1;33m,\u001b[0m \u001b[0mlabel\u001b[0m\u001b[1;33m)\u001b[0m\u001b[1;33m\u001b[0m\u001b[1;33m\u001b[0m\u001b[0m\n\u001b[0;32m   1071\u001b[0m \u001b[1;33m\u001b[0m\u001b[0m\n",
      "\u001b[1;32m~\\anaconda3\\lib\\site-packages\\pandas\\core\\indexes\\base.py\u001b[0m in \u001b[0;36mget_loc\u001b[1;34m(self, key, method, tolerance)\u001b[0m\n\u001b[0;32m   3629\u001b[0m                 \u001b[1;32mreturn\u001b[0m \u001b[0mself\u001b[0m\u001b[1;33m.\u001b[0m\u001b[0m_engine\u001b[0m\u001b[1;33m.\u001b[0m\u001b[0mget_loc\u001b[0m\u001b[1;33m(\u001b[0m\u001b[0mcasted_key\u001b[0m\u001b[1;33m)\u001b[0m\u001b[1;33m\u001b[0m\u001b[1;33m\u001b[0m\u001b[0m\n\u001b[0;32m   3630\u001b[0m             \u001b[1;32mexcept\u001b[0m \u001b[0mKeyError\u001b[0m \u001b[1;32mas\u001b[0m \u001b[0merr\u001b[0m\u001b[1;33m:\u001b[0m\u001b[1;33m\u001b[0m\u001b[1;33m\u001b[0m\u001b[0m\n\u001b[1;32m-> 3631\u001b[1;33m                 \u001b[1;32mraise\u001b[0m \u001b[0mKeyError\u001b[0m\u001b[1;33m(\u001b[0m\u001b[0mkey\u001b[0m\u001b[1;33m)\u001b[0m \u001b[1;32mfrom\u001b[0m \u001b[0merr\u001b[0m\u001b[1;33m\u001b[0m\u001b[1;33m\u001b[0m\u001b[0m\n\u001b[0m\u001b[0;32m   3632\u001b[0m             \u001b[1;32mexcept\u001b[0m \u001b[0mTypeError\u001b[0m\u001b[1;33m:\u001b[0m\u001b[1;33m\u001b[0m\u001b[1;33m\u001b[0m\u001b[0m\n\u001b[0;32m   3633\u001b[0m                 \u001b[1;31m# If we have a listlike key, _check_indexing_error will raise\u001b[0m\u001b[1;33m\u001b[0m\u001b[1;33m\u001b[0m\u001b[0m\n",
      "\u001b[1;31mKeyError\u001b[0m: 'student_name'"
     ]
    }
   ],
   "source": [
    "#Get Help on error\n",
    "\n",
    "per_school_passing_overall = (passing_math_and_reading.groupby([\"school_name\"]).count()[\"student_name\"])/ (per_school[\"Student ID\"] * 100)\n",
    "per_school_passing_overall"
   ]
  },
  {
   "cell_type": "code",
   "execution_count": 92,
   "id": "55ee86fc",
   "metadata": {
    "scrolled": true
   },
   "outputs": [
    {
     "data": {
      "text/plain": [
       "school_name\n",
       "Bailey High School       2719\n",
       "Cabrera High School      1697\n",
       "Figueroa High School     1569\n",
       "Ford High School         1487\n",
       "Griffin High School      1330\n",
       "Hernandez High School    2481\n",
       "Holden High School        381\n",
       "Huang High School        1561\n",
       "Johnson High School      2549\n",
       "Pena High School          871\n",
       "Rodriguez High School    2119\n",
       "Shelton High School      1583\n",
       "Thomas High School       1487\n",
       "Wilson High School       2068\n",
       "Wright High School       1626\n",
       "Name: student_name, dtype: int64"
      ]
     },
     "execution_count": 92,
     "metadata": {},
     "output_type": "execute_result"
    }
   ],
   "source": [
    "#Creating a data Frame:"
   ]
  },
  {
   "cell_type": "code",
   "execution_count": 120,
   "id": "ea125432",
   "metadata": {},
   "outputs": [
    {
     "data": {
      "text/html": [
       "<div>\n",
       "<style scoped>\n",
       "    .dataframe tbody tr th:only-of-type {\n",
       "        vertical-align: middle;\n",
       "    }\n",
       "\n",
       "    .dataframe tbody tr th {\n",
       "        vertical-align: top;\n",
       "    }\n",
       "\n",
       "    .dataframe thead th {\n",
       "        text-align: right;\n",
       "    }\n",
       "</style>\n",
       "<table border=\"1\" class=\"dataframe\">\n",
       "  <thead>\n",
       "    <tr style=\"text-align: right;\">\n",
       "      <th></th>\n",
       "      <th>Avg. 9th Grade Math Score</th>\n",
       "      <th>Avg. 10th Grade Math Score</th>\n",
       "      <th>Avg. 11th Grade Math Score</th>\n",
       "      <th>Avg. 12th Grade Math Score</th>\n",
       "    </tr>\n",
       "    <tr>\n",
       "      <th>school_name</th>\n",
       "      <th></th>\n",
       "      <th></th>\n",
       "      <th></th>\n",
       "      <th></th>\n",
       "    </tr>\n",
       "  </thead>\n",
       "  <tbody>\n",
       "    <tr>\n",
       "      <th>Bailey High School</th>\n",
       "      <td>77.083676</td>\n",
       "      <td>76.996772</td>\n",
       "      <td>77.515588</td>\n",
       "      <td>76.492218</td>\n",
       "    </tr>\n",
       "    <tr>\n",
       "      <th>Cabrera High School</th>\n",
       "      <td>83.094697</td>\n",
       "      <td>83.154506</td>\n",
       "      <td>82.765560</td>\n",
       "      <td>83.277487</td>\n",
       "    </tr>\n",
       "    <tr>\n",
       "      <th>Figueroa High School</th>\n",
       "      <td>76.403037</td>\n",
       "      <td>76.539974</td>\n",
       "      <td>76.884344</td>\n",
       "      <td>77.151369</td>\n",
       "    </tr>\n",
       "    <tr>\n",
       "      <th>Ford High School</th>\n",
       "      <td>77.361345</td>\n",
       "      <td>77.672316</td>\n",
       "      <td>76.918058</td>\n",
       "      <td>76.179963</td>\n",
       "    </tr>\n",
       "    <tr>\n",
       "      <th>Griffin High School</th>\n",
       "      <td>82.044010</td>\n",
       "      <td>84.229064</td>\n",
       "      <td>83.842105</td>\n",
       "      <td>83.356164</td>\n",
       "    </tr>\n",
       "    <tr>\n",
       "      <th>Hernandez High School</th>\n",
       "      <td>77.438495</td>\n",
       "      <td>77.337408</td>\n",
       "      <td>77.136029</td>\n",
       "      <td>77.186567</td>\n",
       "    </tr>\n",
       "    <tr>\n",
       "      <th>Holden High School</th>\n",
       "      <td>83.787402</td>\n",
       "      <td>83.429825</td>\n",
       "      <td>85.000000</td>\n",
       "      <td>82.855422</td>\n",
       "    </tr>\n",
       "    <tr>\n",
       "      <th>Huang High School</th>\n",
       "      <td>77.027251</td>\n",
       "      <td>75.908735</td>\n",
       "      <td>76.446602</td>\n",
       "      <td>77.225641</td>\n",
       "    </tr>\n",
       "    <tr>\n",
       "      <th>Johnson High School</th>\n",
       "      <td>77.187857</td>\n",
       "      <td>76.691117</td>\n",
       "      <td>77.491653</td>\n",
       "      <td>76.863248</td>\n",
       "    </tr>\n",
       "    <tr>\n",
       "      <th>Pena High School</th>\n",
       "      <td>83.625455</td>\n",
       "      <td>83.372000</td>\n",
       "      <td>84.328125</td>\n",
       "      <td>84.121547</td>\n",
       "    </tr>\n",
       "    <tr>\n",
       "      <th>Rodriguez High School</th>\n",
       "      <td>76.859966</td>\n",
       "      <td>76.612500</td>\n",
       "      <td>76.395626</td>\n",
       "      <td>77.690748</td>\n",
       "    </tr>\n",
       "    <tr>\n",
       "      <th>Shelton High School</th>\n",
       "      <td>83.420755</td>\n",
       "      <td>82.917411</td>\n",
       "      <td>83.383495</td>\n",
       "      <td>83.778976</td>\n",
       "    </tr>\n",
       "    <tr>\n",
       "      <th>Thomas High School</th>\n",
       "      <td>83.590022</td>\n",
       "      <td>83.087886</td>\n",
       "      <td>83.498795</td>\n",
       "      <td>83.497041</td>\n",
       "    </tr>\n",
       "    <tr>\n",
       "      <th>Wilson High School</th>\n",
       "      <td>83.085578</td>\n",
       "      <td>83.724422</td>\n",
       "      <td>83.195326</td>\n",
       "      <td>83.035794</td>\n",
       "    </tr>\n",
       "    <tr>\n",
       "      <th>Wright High School</th>\n",
       "      <td>83.264706</td>\n",
       "      <td>84.010288</td>\n",
       "      <td>83.836782</td>\n",
       "      <td>83.644986</td>\n",
       "    </tr>\n",
       "  </tbody>\n",
       "</table>\n",
       "</div>"
      ],
      "text/plain": [
       "                       Avg. 9th Grade Math Score  Avg. 10th Grade Math Score  \\\n",
       "school_name                                                                    \n",
       "Bailey High School                     77.083676                   76.996772   \n",
       "Cabrera High School                    83.094697                   83.154506   \n",
       "Figueroa High School                   76.403037                   76.539974   \n",
       "Ford High School                       77.361345                   77.672316   \n",
       "Griffin High School                    82.044010                   84.229064   \n",
       "Hernandez High School                  77.438495                   77.337408   \n",
       "Holden High School                     83.787402                   83.429825   \n",
       "Huang High School                      77.027251                   75.908735   \n",
       "Johnson High School                    77.187857                   76.691117   \n",
       "Pena High School                       83.625455                   83.372000   \n",
       "Rodriguez High School                  76.859966                   76.612500   \n",
       "Shelton High School                    83.420755                   82.917411   \n",
       "Thomas High School                     83.590022                   83.087886   \n",
       "Wilson High School                     83.085578                   83.724422   \n",
       "Wright High School                     83.264706                   84.010288   \n",
       "\n",
       "                       Avg. 11th Grade Math Score  Avg. 12th Grade Math Score  \n",
       "school_name                                                                    \n",
       "Bailey High School                      77.515588                   76.492218  \n",
       "Cabrera High School                     82.765560                   83.277487  \n",
       "Figueroa High School                    76.884344                   77.151369  \n",
       "Ford High School                        76.918058                   76.179963  \n",
       "Griffin High School                     83.842105                   83.356164  \n",
       "Hernandez High School                   77.136029                   77.186567  \n",
       "Holden High School                      85.000000                   82.855422  \n",
       "Huang High School                       76.446602                   77.225641  \n",
       "Johnson High School                     77.491653                   76.863248  \n",
       "Pena High School                        84.328125                   84.121547  \n",
       "Rodriguez High School                   76.395626                   77.690748  \n",
       "Shelton High School                     83.383495                   83.778976  \n",
       "Thomas High School                      83.498795                   83.497041  \n",
       "Wilson High School                      83.195326                   83.035794  \n",
       "Wright High School                      83.836782                   83.644986  "
      ]
     },
     "execution_count": 120,
     "metadata": {},
     "output_type": "execute_result"
    }
   ],
   "source": [
    "# Use the code provided to separate the data by grade\n",
    "ninth_graders = student_df[(student_df[\"grade\"] == \"9th\")]\n",
    "tenth_graders = student_df[(student_df[\"grade\"] == \"10th\")]\n",
    "eleventh_graders = student_df[(student_df[\"grade\"] == \"11th\")]\n",
    "twelfth_graders = student_df[(student_df[\"grade\"] == \"12th\")]\n",
    "\n",
    "ninth_graders_math_scores = ninth_graders.groupby([\"school_name\"]).mean()[\"math_score\"]\n",
    "tenth_graders_math_scores = tenth_graders.groupby([\"school_name\"]).mean()[\"math_score\"]\n",
    "eleventh_graders_math_scores = eleventh_graders.groupby([\"school_name\"]).mean()[\"math_score\"]\n",
    "twelfth_grader_math_scores = twelfth_graders.groupby([\"school_name\"]).mean()[\"math_score\"]\n",
    "\n",
    "\n",
    "#Combine into a single dataframe (Math Scores)\n",
    "\n",
    "math_scores_by_grade = pd.DataFrame({\"Avg. 9th Grade Math Score\" : ninth_graders_math_scores, \n",
    "                                     \"Avg. 10th Grade Math Score\" : tenth_graders_math_scores,\n",
    "                                     \"Avg. 11th Grade Math Score\" : eleventh_graders_math_scores,\n",
    "                                     \"Avg. 12th Grade Math Score\" : twelfth_grader_math_scores})\n",
    "\n",
    "math_scores_by_grade"
   ]
  },
  {
   "cell_type": "code",
   "execution_count": 121,
   "id": "d6ca81d1",
   "metadata": {
    "scrolled": false
   },
   "outputs": [
    {
     "data": {
      "text/html": [
       "<div>\n",
       "<style scoped>\n",
       "    .dataframe tbody tr th:only-of-type {\n",
       "        vertical-align: middle;\n",
       "    }\n",
       "\n",
       "    .dataframe tbody tr th {\n",
       "        vertical-align: top;\n",
       "    }\n",
       "\n",
       "    .dataframe thead th {\n",
       "        text-align: right;\n",
       "    }\n",
       "</style>\n",
       "<table border=\"1\" class=\"dataframe\">\n",
       "  <thead>\n",
       "    <tr style=\"text-align: right;\">\n",
       "      <th></th>\n",
       "      <th>Avg. 9th Grade Reading Score</th>\n",
       "      <th>Avg. 10th Grade Reading Score</th>\n",
       "      <th>Avg. 11th Grade Reading Score</th>\n",
       "      <th>Avg. 12th Grade Reading Score</th>\n",
       "    </tr>\n",
       "    <tr>\n",
       "      <th>school_name</th>\n",
       "      <th></th>\n",
       "      <th></th>\n",
       "      <th></th>\n",
       "      <th></th>\n",
       "    </tr>\n",
       "  </thead>\n",
       "  <tbody>\n",
       "    <tr>\n",
       "      <th>Bailey High School</th>\n",
       "      <td>81.303155</td>\n",
       "      <td>80.907183</td>\n",
       "      <td>80.945643</td>\n",
       "      <td>80.912451</td>\n",
       "    </tr>\n",
       "    <tr>\n",
       "      <th>Cabrera High School</th>\n",
       "      <td>83.676136</td>\n",
       "      <td>84.253219</td>\n",
       "      <td>83.788382</td>\n",
       "      <td>84.287958</td>\n",
       "    </tr>\n",
       "    <tr>\n",
       "      <th>Figueroa High School</th>\n",
       "      <td>81.198598</td>\n",
       "      <td>81.408912</td>\n",
       "      <td>80.640339</td>\n",
       "      <td>81.384863</td>\n",
       "    </tr>\n",
       "    <tr>\n",
       "      <th>Ford High School</th>\n",
       "      <td>80.632653</td>\n",
       "      <td>81.262712</td>\n",
       "      <td>80.403642</td>\n",
       "      <td>80.662338</td>\n",
       "    </tr>\n",
       "    <tr>\n",
       "      <th>Griffin High School</th>\n",
       "      <td>83.369193</td>\n",
       "      <td>83.706897</td>\n",
       "      <td>84.288089</td>\n",
       "      <td>84.013699</td>\n",
       "    </tr>\n",
       "    <tr>\n",
       "      <th>Hernandez High School</th>\n",
       "      <td>80.866860</td>\n",
       "      <td>80.660147</td>\n",
       "      <td>81.396140</td>\n",
       "      <td>80.857143</td>\n",
       "    </tr>\n",
       "    <tr>\n",
       "      <th>Holden High School</th>\n",
       "      <td>83.677165</td>\n",
       "      <td>83.324561</td>\n",
       "      <td>83.815534</td>\n",
       "      <td>84.698795</td>\n",
       "    </tr>\n",
       "    <tr>\n",
       "      <th>Huang High School</th>\n",
       "      <td>81.290284</td>\n",
       "      <td>81.512386</td>\n",
       "      <td>81.417476</td>\n",
       "      <td>80.305983</td>\n",
       "    </tr>\n",
       "    <tr>\n",
       "      <th>Johnson High School</th>\n",
       "      <td>81.260714</td>\n",
       "      <td>80.773431</td>\n",
       "      <td>80.616027</td>\n",
       "      <td>81.227564</td>\n",
       "    </tr>\n",
       "    <tr>\n",
       "      <th>Pena High School</th>\n",
       "      <td>83.807273</td>\n",
       "      <td>83.612000</td>\n",
       "      <td>84.335938</td>\n",
       "      <td>84.591160</td>\n",
       "    </tr>\n",
       "    <tr>\n",
       "      <th>Rodriguez High School</th>\n",
       "      <td>80.993127</td>\n",
       "      <td>80.629808</td>\n",
       "      <td>80.864811</td>\n",
       "      <td>80.376426</td>\n",
       "    </tr>\n",
       "    <tr>\n",
       "      <th>Shelton High School</th>\n",
       "      <td>84.122642</td>\n",
       "      <td>83.441964</td>\n",
       "      <td>84.373786</td>\n",
       "      <td>82.781671</td>\n",
       "    </tr>\n",
       "    <tr>\n",
       "      <th>Thomas High School</th>\n",
       "      <td>83.728850</td>\n",
       "      <td>84.254157</td>\n",
       "      <td>83.585542</td>\n",
       "      <td>83.831361</td>\n",
       "    </tr>\n",
       "    <tr>\n",
       "      <th>Wilson High School</th>\n",
       "      <td>83.939778</td>\n",
       "      <td>84.021452</td>\n",
       "      <td>83.764608</td>\n",
       "      <td>84.317673</td>\n",
       "    </tr>\n",
       "    <tr>\n",
       "      <th>Wright High School</th>\n",
       "      <td>83.833333</td>\n",
       "      <td>83.812757</td>\n",
       "      <td>84.156322</td>\n",
       "      <td>84.073171</td>\n",
       "    </tr>\n",
       "  </tbody>\n",
       "</table>\n",
       "</div>"
      ],
      "text/plain": [
       "                       Avg. 9th Grade Reading Score  \\\n",
       "school_name                                           \n",
       "Bailey High School                        81.303155   \n",
       "Cabrera High School                       83.676136   \n",
       "Figueroa High School                      81.198598   \n",
       "Ford High School                          80.632653   \n",
       "Griffin High School                       83.369193   \n",
       "Hernandez High School                     80.866860   \n",
       "Holden High School                        83.677165   \n",
       "Huang High School                         81.290284   \n",
       "Johnson High School                       81.260714   \n",
       "Pena High School                          83.807273   \n",
       "Rodriguez High School                     80.993127   \n",
       "Shelton High School                       84.122642   \n",
       "Thomas High School                        83.728850   \n",
       "Wilson High School                        83.939778   \n",
       "Wright High School                        83.833333   \n",
       "\n",
       "                       Avg. 10th Grade Reading Score  \\\n",
       "school_name                                            \n",
       "Bailey High School                         80.907183   \n",
       "Cabrera High School                        84.253219   \n",
       "Figueroa High School                       81.408912   \n",
       "Ford High School                           81.262712   \n",
       "Griffin High School                        83.706897   \n",
       "Hernandez High School                      80.660147   \n",
       "Holden High School                         83.324561   \n",
       "Huang High School                          81.512386   \n",
       "Johnson High School                        80.773431   \n",
       "Pena High School                           83.612000   \n",
       "Rodriguez High School                      80.629808   \n",
       "Shelton High School                        83.441964   \n",
       "Thomas High School                         84.254157   \n",
       "Wilson High School                         84.021452   \n",
       "Wright High School                         83.812757   \n",
       "\n",
       "                       Avg. 11th Grade Reading Score  \\\n",
       "school_name                                            \n",
       "Bailey High School                         80.945643   \n",
       "Cabrera High School                        83.788382   \n",
       "Figueroa High School                       80.640339   \n",
       "Ford High School                           80.403642   \n",
       "Griffin High School                        84.288089   \n",
       "Hernandez High School                      81.396140   \n",
       "Holden High School                         83.815534   \n",
       "Huang High School                          81.417476   \n",
       "Johnson High School                        80.616027   \n",
       "Pena High School                           84.335938   \n",
       "Rodriguez High School                      80.864811   \n",
       "Shelton High School                        84.373786   \n",
       "Thomas High School                         83.585542   \n",
       "Wilson High School                         83.764608   \n",
       "Wright High School                         84.156322   \n",
       "\n",
       "                       Avg. 12th Grade Reading Score  \n",
       "school_name                                           \n",
       "Bailey High School                         80.912451  \n",
       "Cabrera High School                        84.287958  \n",
       "Figueroa High School                       81.384863  \n",
       "Ford High School                           80.662338  \n",
       "Griffin High School                        84.013699  \n",
       "Hernandez High School                      80.857143  \n",
       "Holden High School                         84.698795  \n",
       "Huang High School                          80.305983  \n",
       "Johnson High School                        81.227564  \n",
       "Pena High School                           84.591160  \n",
       "Rodriguez High School                      80.376426  \n",
       "Shelton High School                        82.781671  \n",
       "Thomas High School                         83.831361  \n",
       "Wilson High School                         84.317673  \n",
       "Wright High School                         84.073171  "
      ]
     },
     "execution_count": 121,
     "metadata": {},
     "output_type": "execute_result"
    }
   ],
   "source": [
    "#Code for avg. reading scores by grade\n",
    "ninth_graders_read_scores = ninth_graders.groupby([\"school_name\"]).mean()[\"reading_score\"]\n",
    "tenth_graders_read_scores = tenth_graders.groupby([\"school_name\"]).mean()[\"reading_score\"]\n",
    "eleventh_graders_read_scores = eleventh_graders.groupby([\"school_name\"]).mean()[\"reading_score\"]\n",
    "twelfth_grader_read_scores = twelfth_graders.groupby([\"school_name\"]).mean()[\"reading_score\"]\n",
    "\n",
    "#Combine into a single dataframe (Reading Scores)\n",
    "reading_scores_by_grade = pd.DataFrame({\"Avg. 9th Grade Reading Score\" : ninth_graders_read_scores, \n",
    "                                     \"Avg. 10th Grade Reading Score\" : tenth_graders_read_scores,\n",
    "                                     \"Avg. 11th Grade Reading Score\" : eleventh_graders_read_scores,\n",
    "                                     \"Avg. 12th Grade Reading Score\" : twelfth_grader_read_scores})\n",
    "\n",
    "reading_scores_by_grade\n"
   ]
  },
  {
   "cell_type": "code",
   "execution_count": 122,
   "id": "87c40c8d",
   "metadata": {},
   "outputs": [],
   "source": [
    "#Establish Bins\n",
    "spending_bins = [0, 585, 630, 645, 680]\n",
    "labels = [\"<$585\", \"$585-630\", \"$630-645\", \"$645-680\"]"
   ]
  },
  {
   "cell_type": "code",
   "execution_count": null,
   "id": "7f84cf77",
   "metadata": {},
   "outputs": [],
   "source": []
  },
  {
   "cell_type": "code",
   "execution_count": null,
   "id": "7bc7e7c0",
   "metadata": {},
   "outputs": [],
   "source": []
  }
 ],
 "metadata": {
  "kernelspec": {
   "display_name": "PythonData",
   "language": "python",
   "name": "pythondata"
  },
  "language_info": {
   "codemirror_mode": {
    "name": "ipython",
    "version": 3
   },
   "file_extension": ".py",
   "mimetype": "text/x-python",
   "name": "python",
   "nbconvert_exporter": "python",
   "pygments_lexer": "ipython3",
   "version": "3.9.13"
  }
 },
 "nbformat": 4,
 "nbformat_minor": 5
}
